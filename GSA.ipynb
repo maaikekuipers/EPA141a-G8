{
 "cells": [
  {
   "cell_type": "markdown",
   "metadata": {},
   "source": [
    "## Global Sensitivity Analysis\n",
    "\n",
    "To understand how the uncertainties influence the outcomes of the model this notebook performs a global sensitivity analysis using the Sobol method using the EMA workbench (SaLib). "
   ]
  },
  {
   "cell_type": "markdown",
   "metadata": {},
   "source": [
    "-------------------------\n",
    "#### 0. Imports"
   ]
  },
  {
   "cell_type": "code",
   "execution_count": 2,
   "metadata": {},
   "outputs": [
    {
     "name": "stderr",
     "output_type": "stream",
     "text": [
      "/Library/Frameworks/Python.framework/Versions/3.11/lib/python3.11/site-packages/ema_workbench/em_framework/__init__.py:101: UserWarning: ipyparallel not installed - IpyparalleEvaluator not available\n",
      "  warnings.warn(\"ipyparallel not installed - IpyparalleEvaluator not available\")\n"
     ]
    }
   ],
   "source": [
    "import numpy as np\n",
    "import pandas as pd\n",
    "import matplotlib.pyplot as plt\n",
    "import seaborn as sns\n",
    "from ema_workbench import (\n",
    "    Samplers,\n",
    "    Policy,\n",
    "    ema_logging,\n",
    "    SequentialEvaluator,\n",
    "    save_results\n",
    ")\n",
    "from ema_workbench.em_framework.salib_samplers import get_SALib_problem\n",
    "from dike_model_function import DikeNetwork  # @UnresolvedImport\n",
    "from problem_formulation import get_model_for_problem_formulation, sum_over, sum_over_time\n",
    "from SALib.analyze import sobol\n"
   ]
  },
  {
   "cell_type": "markdown",
   "metadata": {},
   "source": [
    "----------------\n",
    "### 1. SaLib"
   ]
  },
  {
   "cell_type": "code",
   "execution_count": 3,
   "metadata": {
    "is_executing": true
   },
   "outputs": [],
   "source": [
    "# Turn on logging\n",
    "ema_logging.log_to_stderr(ema_logging.INFO)\n",
    "\n",
    "# Policy formulation number 2 is chosen, as this is in line with the intrest of our client the Delta Commision\n",
    "dike_model, planning_steps = get_model_for_problem_formulation(6)"
   ]
  },
  {
   "cell_type": "code",
   "execution_count": 4,
   "metadata": {
    "is_executing": true
   },
   "outputs": [
    {
     "name": "stdout",
     "output_type": "stream",
     "text": [
      "CategoricalParameter('discount rate 0', [0, 1, 2, 3])\n",
      "CategoricalParameter('discount rate 1', [0, 1, 2, 3])\n",
      "CategoricalParameter('discount rate 2', [0, 1, 2, 3])\n",
      "IntegerParameter('A.0_ID flood wave shape', 0, 132, resolution=None, default=None, variable_name=['A.0_ID flood wave shape'], pff=False)\n",
      "RealParameter('A.1_Bmax', 30, 350, resolution=None, default=None, variable_name=['A.1_Bmax'], pff=False)\n",
      "RealParameter('A.1_pfail', 0, 1, resolution=None, default=None, variable_name=['A.1_pfail'], pff=False)\n",
      "CategoricalParameter('A.1_Brate', [0, 1, 2])\n",
      "RealParameter('A.2_Bmax', 30, 350, resolution=None, default=None, variable_name=['A.2_Bmax'], pff=False)\n",
      "RealParameter('A.2_pfail', 0, 1, resolution=None, default=None, variable_name=['A.2_pfail'], pff=False)\n",
      "CategoricalParameter('A.2_Brate', [0, 1, 2])\n",
      "RealParameter('A.3_Bmax', 30, 350, resolution=None, default=None, variable_name=['A.3_Bmax'], pff=False)\n",
      "RealParameter('A.3_pfail', 0, 1, resolution=None, default=None, variable_name=['A.3_pfail'], pff=False)\n",
      "CategoricalParameter('A.3_Brate', [0, 1, 2])\n",
      "RealParameter('A.4_Bmax', 30, 350, resolution=None, default=None, variable_name=['A.4_Bmax'], pff=False)\n",
      "RealParameter('A.4_pfail', 0, 1, resolution=None, default=None, variable_name=['A.4_pfail'], pff=False)\n",
      "CategoricalParameter('A.4_Brate', [0, 1, 2])\n",
      "RealParameter('A.5_Bmax', 30, 350, resolution=None, default=None, variable_name=['A.5_Bmax'], pff=False)\n",
      "RealParameter('A.5_pfail', 0, 1, resolution=None, default=None, variable_name=['A.5_pfail'], pff=False)\n",
      "CategoricalParameter('A.5_Brate', [0, 1, 2])\n"
     ]
    }
   ],
   "source": [
    "# Define the model uncertainties\n",
    "import copy\n",
    "for unc in dike_model.uncertainties:\n",
    "    print(repr(unc))\n",
    "\n",
    "uncertainties = copy.deepcopy(dike_model.uncertainties)"
   ]
  },
  {
   "cell_type": "code",
   "execution_count": 5,
   "metadata": {
    "is_executing": true
   },
   "outputs": [
    {
     "name": "stdout",
     "output_type": "stream",
     "text": [
      "IntegerParameter('0_RfR 0', 0, 1, resolution=None, default=None, variable_name=['0_RfR 0'], pff=False)\n",
      "IntegerParameter('0_RfR 1', 0, 1, resolution=None, default=None, variable_name=['0_RfR 1'], pff=False)\n",
      "IntegerParameter('0_RfR 2', 0, 1, resolution=None, default=None, variable_name=['0_RfR 2'], pff=False)\n",
      "IntegerParameter('1_RfR 0', 0, 1, resolution=None, default=None, variable_name=['1_RfR 0'], pff=False)\n",
      "IntegerParameter('1_RfR 1', 0, 1, resolution=None, default=None, variable_name=['1_RfR 1'], pff=False)\n",
      "IntegerParameter('1_RfR 2', 0, 1, resolution=None, default=None, variable_name=['1_RfR 2'], pff=False)\n",
      "IntegerParameter('2_RfR 0', 0, 1, resolution=None, default=None, variable_name=['2_RfR 0'], pff=False)\n",
      "IntegerParameter('2_RfR 1', 0, 1, resolution=None, default=None, variable_name=['2_RfR 1'], pff=False)\n",
      "IntegerParameter('2_RfR 2', 0, 1, resolution=None, default=None, variable_name=['2_RfR 2'], pff=False)\n",
      "IntegerParameter('3_RfR 0', 0, 1, resolution=None, default=None, variable_name=['3_RfR 0'], pff=False)\n",
      "IntegerParameter('3_RfR 1', 0, 1, resolution=None, default=None, variable_name=['3_RfR 1'], pff=False)\n",
      "IntegerParameter('3_RfR 2', 0, 1, resolution=None, default=None, variable_name=['3_RfR 2'], pff=False)\n",
      "IntegerParameter('4_RfR 0', 0, 1, resolution=None, default=None, variable_name=['4_RfR 0'], pff=False)\n",
      "IntegerParameter('4_RfR 1', 0, 1, resolution=None, default=None, variable_name=['4_RfR 1'], pff=False)\n",
      "IntegerParameter('4_RfR 2', 0, 1, resolution=None, default=None, variable_name=['4_RfR 2'], pff=False)\n",
      "IntegerParameter('EWS_DaysToThreat', 0, 4, resolution=None, default=None, variable_name=['EWS_DaysToThreat'], pff=False)\n",
      "IntegerParameter('A.1_DikeIncrease 0', 0, 10, resolution=None, default=None, variable_name=['A.1_DikeIncrease 0'], pff=False)\n",
      "IntegerParameter('A.1_DikeIncrease 1', 0, 10, resolution=None, default=None, variable_name=['A.1_DikeIncrease 1'], pff=False)\n",
      "IntegerParameter('A.1_DikeIncrease 2', 0, 10, resolution=None, default=None, variable_name=['A.1_DikeIncrease 2'], pff=False)\n",
      "IntegerParameter('A.2_DikeIncrease 0', 0, 10, resolution=None, default=None, variable_name=['A.2_DikeIncrease 0'], pff=False)\n",
      "IntegerParameter('A.2_DikeIncrease 1', 0, 10, resolution=None, default=None, variable_name=['A.2_DikeIncrease 1'], pff=False)\n",
      "IntegerParameter('A.2_DikeIncrease 2', 0, 10, resolution=None, default=None, variable_name=['A.2_DikeIncrease 2'], pff=False)\n",
      "IntegerParameter('A.3_DikeIncrease 0', 0, 10, resolution=None, default=None, variable_name=['A.3_DikeIncrease 0'], pff=False)\n",
      "IntegerParameter('A.3_DikeIncrease 1', 0, 10, resolution=None, default=None, variable_name=['A.3_DikeIncrease 1'], pff=False)\n",
      "IntegerParameter('A.3_DikeIncrease 2', 0, 10, resolution=None, default=None, variable_name=['A.3_DikeIncrease 2'], pff=False)\n",
      "IntegerParameter('A.4_DikeIncrease 0', 0, 10, resolution=None, default=None, variable_name=['A.4_DikeIncrease 0'], pff=False)\n",
      "IntegerParameter('A.4_DikeIncrease 1', 0, 10, resolution=None, default=None, variable_name=['A.4_DikeIncrease 1'], pff=False)\n",
      "IntegerParameter('A.4_DikeIncrease 2', 0, 10, resolution=None, default=None, variable_name=['A.4_DikeIncrease 2'], pff=False)\n",
      "IntegerParameter('A.5_DikeIncrease 0', 0, 10, resolution=None, default=None, variable_name=['A.5_DikeIncrease 0'], pff=False)\n",
      "IntegerParameter('A.5_DikeIncrease 1', 0, 10, resolution=None, default=None, variable_name=['A.5_DikeIncrease 1'], pff=False)\n",
      "IntegerParameter('A.5_DikeIncrease 2', 0, 10, resolution=None, default=None, variable_name=['A.5_DikeIncrease 2'], pff=False)\n"
     ]
    }
   ],
   "source": [
    "# Define the model levers\n",
    "for policy in dike_model.levers:\n",
    "    print(repr(policy))\n",
    "\n",
    "levers = copy.deepcopy(dike_model.levers)"
   ]
  },
  {
   "cell_type": "code",
   "execution_count": 6,
   "metadata": {
    "is_executing": true
   },
   "outputs": [
    {
     "name": "stdout",
     "output_type": "stream",
     "text": [
      "ScalarOutcome('Expected Annual Damage', variable_name=('A.1_Expected Annual Damage', 'A.2_Expected Annual Damage', 'A.3_Expected Annual Damage', 'A.4_Expected Annual Damage', 'A.5_Expected Annual Damage'), function=<function sum_over at 0x11d934040>)\n",
      "ScalarOutcome('Dike Investment Costs', variable_name=('A.1_Dike Investment Costs', 'A.2_Dike Investment Costs', 'A.3_Dike Investment Costs', 'A.4_Dike Investment Costs', 'A.5_Dike Investment Costs'), function=<function sum_over at 0x11d934040>)\n",
      "ScalarOutcome('RfR Investment Costs', variable_name=('RfR Total Costs',), function=<function sum_over at 0x11d934040>)\n",
      "ScalarOutcome('Evacuation Costs', variable_name=('Expected Evacuation Costs',), function=<function sum_over at 0x11d934040>)\n",
      "ScalarOutcome('Expected Number of Deaths', variable_name=('A.1_Expected Number of Deaths', 'A.2_Expected Number of Deaths', 'A.3_Expected Number of Deaths', 'A.4_Expected Number of Deaths', 'A.5_Expected Number of Deaths'), function=<function sum_over at 0x11d934040>)\n",
      "ScalarOutcome('Total Investment Costs', variable_name=('A.1_Dike Investment Costs', 'A.2_Dike Investment Costs', 'A.3_Dike Investment Costs', 'A.4_Dike Investment Costs', 'A.5_Dike Investment Costs', 'RfR Total Costs', 'Expected Evacuation Costs'), function=<function sum_over at 0x11d934040>)\n"
     ]
    }
   ],
   "source": [
    "# Printing the model outcomes\n",
    "for outcome in dike_model.outcomes:\n",
    "    print(repr(outcome))"
   ]
  },
  {
   "cell_type": "code",
   "execution_count": 7,
   "metadata": {},
   "outputs": [],
   "source": [
    "# Define a dictionary with all levers set to zero\n",
    "lever_settings = {lever.name: 0 for lever in levers}\n",
    "\n",
    "# Define the policy with all levers set to zero (no release)\n",
    "zero_policy = Policy(\"Zero Policy\", **lever_settings)"
   ]
  },
  {
   "cell_type": "code",
   "execution_count": 8,
   "metadata": {},
   "outputs": [],
   "source": [
    "n_exp = 1000 # Number of experiments"
   ]
  },
  {
   "cell_type": "code",
   "execution_count": 13,
   "metadata": {
    "is_executing": true
   },
   "outputs": [
    {
     "name": "stderr",
     "output_type": "stream",
     "text": [
      "/Library/Frameworks/Python.framework/Versions/3.11/lib/python3.11/site-packages/scipy/stats/_qmc.py:958: UserWarning: The balance properties of Sobol' points require n to be a power of 2.\n",
      "  sample = self._random(n, workers=workers)\n",
      "[MainProcess/INFO] performing 400 scenarios * 1 policies * 1 model(s) = 400 experiments\n",
      "  0%|                                                  | 0/400 [00:00<?, ?it/s][MainProcess/INFO] performing experiments sequentially\n"
     ]
    },
    {
     "name": "stderr",
     "output_type": "stream",
     "text": [
      "100%|████████████████████████████████████████| 400/400 [09:48<00:00,  1.47s/it]\n",
      "[MainProcess/INFO] experiments finished\n"
     ]
    }
   ],
   "source": [
    "# Perform experiments with Sobol sampling, using the zero-policy\n",
    "# Setting up 40000 scenarios to match M=1000 with 19 uncertainties (2k+2)M = 40*1000 = 40000\n",
    "with SequentialEvaluator(dike_model) as evaluator:\n",
    "    experiments, results = evaluator.perform_experiments(scenarios=n_exp, policies=[zero_policy],\n",
    "                                                         uncertainty_sampling=Samplers.SOBOL)\n",
    "\n"
   ]
  },
  {
   "cell_type": "code",
   "execution_count": 14,
   "metadata": {},
   "outputs": [
    {
     "name": "stderr",
     "output_type": "stream",
     "text": [
      "[MainProcess/INFO] results saved successfully to /Users/catomartens/Desktop/EPA141 MODEL BASED/epa141A_open-master/final assignment/sequential_results.tar.gz\n"
     ]
    }
   ],
   "source": [
    "# Save the results\n",
    "save_results((experiments, results), 'sequential_results.tar.gz')"
   ]
  },
  {
   "cell_type": "code",
   "execution_count": 15,
   "metadata": {},
   "outputs": [
    {
     "name": "stdout",
     "output_type": "stream",
     "text": [
      "{'num_vars': 19, 'names': ['A.0_ID flood wave shape', 'A.1_Bmax', 'A.1_Brate', 'A.1_pfail', 'A.2_Bmax', 'A.2_Brate', 'A.2_pfail', 'A.3_Bmax', 'A.3_Brate', 'A.3_pfail', 'A.4_Bmax', 'A.4_Brate', 'A.4_pfail', 'A.5_Bmax', 'A.5_Brate', 'A.5_pfail', 'discount rate 0', 'discount rate 1', 'discount rate 2'], 'bounds': [(0, 133), (30, 350), (0, 3), (0, 1), (30, 350), (0, 3), (0, 1), (30, 350), (0, 3), (0, 1), (30, 350), (0, 3), (0, 1), (30, 350), (0, 3), (0, 1), (0, 4), (0, 4), (0, 4)]}\n"
     ]
    }
   ],
   "source": [
    "# Print the experiments\n",
    "problem = get_SALib_problem(uncertainties)\n",
    "print(problem)"
   ]
  },
  {
   "cell_type": "markdown",
   "metadata": {},
   "source": [
    "---------\n",
    "### 2. Visual Analysis"
   ]
  },
  {
   "cell_type": "code",
   "execution_count": 16,
   "metadata": {},
   "outputs": [
    {
     "name": "stderr",
     "output_type": "stream",
     "text": [
      "/Library/Frameworks/Python.framework/Versions/3.11/lib/python3.11/site-packages/SALib/util/__init__.py:274: FutureWarning: unique with argument that is not not a Series, Index, ExtensionArray, or np.ndarray is deprecated and will raise in a future version.\n",
      "  names = list(pd.unique(groups))\n"
     ]
    },
    {
     "name": "stdout",
     "output_type": "stream",
     "text": [
      "                               ST   ST_conf\n",
      "A.0_ID flood wave shape  0.020565  0.056969\n",
      "A.1_Bmax                 0.000332  0.000822\n",
      "A.1_Brate                0.000002  0.000005\n",
      "A.1_pfail                0.476415  0.937569\n",
      "A.2_Bmax                 0.000007  0.000020\n",
      "A.2_Brate                0.000000  0.000000\n",
      "A.2_pfail                0.029776  0.067568\n",
      "A.3_Bmax                 0.000000  0.000000\n",
      "A.3_Brate                0.000000  0.000000\n",
      "A.3_pfail                0.256592  0.507144\n",
      "A.4_Bmax                 0.000000  0.000000\n",
      "A.4_Brate                0.000000  0.000000\n",
      "A.4_pfail                0.000982  0.002231\n",
      "A.5_Bmax                 0.000000  0.000000\n",
      "A.5_Brate                0.000000  0.000000\n",
      "A.5_pfail                0.005089  0.010883\n",
      "discount rate 0          0.022360  0.029109\n",
      "discount rate 1          0.045396  0.113533\n",
      "discount rate 2          0.013529  0.024354\n",
      "                               S1   S1_conf\n",
      "A.0_ID flood wave shape -0.053735  0.129460\n",
      "A.1_Bmax                 0.006834  0.017847\n",
      "A.1_Brate               -0.000527  0.001381\n",
      "A.1_pfail                0.198975  0.493740\n",
      "A.2_Bmax                -0.000855  0.002362\n",
      "A.2_Brate                0.000000  0.000000\n",
      "A.2_pfail                0.016324  0.124540\n",
      "A.3_Bmax                 0.000000  0.000000\n",
      "A.3_Brate                0.000000  0.000000\n",
      "A.3_pfail                0.327425  0.405341\n",
      "A.4_Bmax                 0.000000  0.000000\n",
      "A.4_Brate                0.000000  0.000000\n",
      "A.4_pfail               -0.008163  0.017682\n",
      "A.5_Bmax                 0.000000  0.000000\n",
      "A.5_Brate                0.000000  0.000000\n",
      "A.5_pfail               -0.006214  0.063657\n",
      "discount rate 0          0.172455  0.148683\n",
      "discount rate 1          0.066885  0.143508\n",
      "discount rate 2         -0.064294  0.108574\n",
      "                                            S2   S2_conf\n",
      "(A.0_ID flood wave shape, A.1_Bmax)   0.020375  0.133350\n",
      "(A.0_ID flood wave shape, A.1_Brate)  0.019852  0.132723\n",
      "(A.0_ID flood wave shape, A.1_pfail)  0.097210  0.222096\n",
      "(A.0_ID flood wave shape, A.2_Bmax)   0.019886  0.132782\n",
      "(A.0_ID flood wave shape, A.2_Brate)  0.019882  0.132781\n",
      "...                                        ...       ...\n",
      "(A.5_pfail, discount rate 1)          0.041405  0.134144\n",
      "(A.5_pfail, discount rate 2)          0.026219  0.098340\n",
      "(discount rate 0, discount rate 1)   -0.318457  0.254823\n",
      "(discount rate 0, discount rate 2)   -0.281290  0.201427\n",
      "(discount rate 1, discount rate 2)   -0.194045  0.222577\n",
      "\n",
      "[171 rows x 2 columns]\n"
     ]
    },
    {
     "name": "stderr",
     "output_type": "stream",
     "text": [
      "/Library/Frameworks/Python.framework/Versions/3.11/lib/python3.11/site-packages/SALib/util/__init__.py:274: FutureWarning: unique with argument that is not not a Series, Index, ExtensionArray, or np.ndarray is deprecated and will raise in a future version.\n",
      "  names = list(pd.unique(groups))\n",
      "/Library/Frameworks/Python.framework/Versions/3.11/lib/python3.11/site-packages/SALib/analyze/sobol.py:141: RuntimeWarning: invalid value encountered in divide\n",
      "  Y = (Y - Y.mean()) / Y.std()\n"
     ]
    },
    {
     "name": "stdout",
     "output_type": "stream",
     "text": [
      "                         ST  ST_conf\n",
      "A.0_ID flood wave shape NaN      NaN\n",
      "A.1_Bmax                NaN      NaN\n",
      "A.1_Brate               NaN      NaN\n",
      "A.1_pfail               NaN      NaN\n",
      "A.2_Bmax                NaN      NaN\n",
      "A.2_Brate               NaN      NaN\n",
      "A.2_pfail               NaN      NaN\n",
      "A.3_Bmax                NaN      NaN\n",
      "A.3_Brate               NaN      NaN\n",
      "A.3_pfail               NaN      NaN\n",
      "A.4_Bmax                NaN      NaN\n",
      "A.4_Brate               NaN      NaN\n",
      "A.4_pfail               NaN      NaN\n",
      "A.5_Bmax                NaN      NaN\n",
      "A.5_Brate               NaN      NaN\n",
      "A.5_pfail               NaN      NaN\n",
      "discount rate 0         NaN      NaN\n",
      "discount rate 1         NaN      NaN\n",
      "discount rate 2         NaN      NaN\n",
      "                         S1  S1_conf\n",
      "A.0_ID flood wave shape NaN      NaN\n",
      "A.1_Bmax                NaN      NaN\n",
      "A.1_Brate               NaN      NaN\n",
      "A.1_pfail               NaN      NaN\n",
      "A.2_Bmax                NaN      NaN\n",
      "A.2_Brate               NaN      NaN\n",
      "A.2_pfail               NaN      NaN\n",
      "A.3_Bmax                NaN      NaN\n",
      "A.3_Brate               NaN      NaN\n",
      "A.3_pfail               NaN      NaN\n",
      "A.4_Bmax                NaN      NaN\n",
      "A.4_Brate               NaN      NaN\n",
      "A.4_pfail               NaN      NaN\n",
      "A.5_Bmax                NaN      NaN\n",
      "A.5_Brate               NaN      NaN\n",
      "A.5_pfail               NaN      NaN\n",
      "discount rate 0         NaN      NaN\n",
      "discount rate 1         NaN      NaN\n",
      "discount rate 2         NaN      NaN\n",
      "                                      S2  S2_conf\n",
      "(A.0_ID flood wave shape, A.1_Bmax)  NaN      NaN\n",
      "(A.0_ID flood wave shape, A.1_Brate) NaN      NaN\n",
      "(A.0_ID flood wave shape, A.1_pfail) NaN      NaN\n",
      "(A.0_ID flood wave shape, A.2_Bmax)  NaN      NaN\n",
      "(A.0_ID flood wave shape, A.2_Brate) NaN      NaN\n",
      "...                                   ..      ...\n",
      "(A.5_pfail, discount rate 1)         NaN      NaN\n",
      "(A.5_pfail, discount rate 2)         NaN      NaN\n",
      "(discount rate 0, discount rate 1)   NaN      NaN\n",
      "(discount rate 0, discount rate 2)   NaN      NaN\n",
      "(discount rate 1, discount rate 2)   NaN      NaN\n",
      "\n",
      "[171 rows x 2 columns]\n"
     ]
    },
    {
     "name": "stderr",
     "output_type": "stream",
     "text": [
      "/Library/Frameworks/Python.framework/Versions/3.11/lib/python3.11/site-packages/SALib/util/__init__.py:274: FutureWarning: unique with argument that is not not a Series, Index, ExtensionArray, or np.ndarray is deprecated and will raise in a future version.\n",
      "  names = list(pd.unique(groups))\n",
      "/Library/Frameworks/Python.framework/Versions/3.11/lib/python3.11/site-packages/SALib/analyze/sobol.py:141: RuntimeWarning: invalid value encountered in divide\n",
      "  Y = (Y - Y.mean()) / Y.std()\n"
     ]
    },
    {
     "name": "stdout",
     "output_type": "stream",
     "text": [
      "                         ST  ST_conf\n",
      "A.0_ID flood wave shape NaN      NaN\n",
      "A.1_Bmax                NaN      NaN\n",
      "A.1_Brate               NaN      NaN\n",
      "A.1_pfail               NaN      NaN\n",
      "A.2_Bmax                NaN      NaN\n",
      "A.2_Brate               NaN      NaN\n",
      "A.2_pfail               NaN      NaN\n",
      "A.3_Bmax                NaN      NaN\n",
      "A.3_Brate               NaN      NaN\n",
      "A.3_pfail               NaN      NaN\n",
      "A.4_Bmax                NaN      NaN\n",
      "A.4_Brate               NaN      NaN\n",
      "A.4_pfail               NaN      NaN\n",
      "A.5_Bmax                NaN      NaN\n",
      "A.5_Brate               NaN      NaN\n",
      "A.5_pfail               NaN      NaN\n",
      "discount rate 0         NaN      NaN\n",
      "discount rate 1         NaN      NaN\n",
      "discount rate 2         NaN      NaN\n",
      "                         S1  S1_conf\n",
      "A.0_ID flood wave shape NaN      NaN\n",
      "A.1_Bmax                NaN      NaN\n",
      "A.1_Brate               NaN      NaN\n",
      "A.1_pfail               NaN      NaN\n",
      "A.2_Bmax                NaN      NaN\n",
      "A.2_Brate               NaN      NaN\n",
      "A.2_pfail               NaN      NaN\n",
      "A.3_Bmax                NaN      NaN\n",
      "A.3_Brate               NaN      NaN\n",
      "A.3_pfail               NaN      NaN\n",
      "A.4_Bmax                NaN      NaN\n",
      "A.4_Brate               NaN      NaN\n",
      "A.4_pfail               NaN      NaN\n",
      "A.5_Bmax                NaN      NaN\n",
      "A.5_Brate               NaN      NaN\n",
      "A.5_pfail               NaN      NaN\n",
      "discount rate 0         NaN      NaN\n",
      "discount rate 1         NaN      NaN\n",
      "discount rate 2         NaN      NaN\n",
      "                                      S2  S2_conf\n",
      "(A.0_ID flood wave shape, A.1_Bmax)  NaN      NaN\n",
      "(A.0_ID flood wave shape, A.1_Brate) NaN      NaN\n",
      "(A.0_ID flood wave shape, A.1_pfail) NaN      NaN\n",
      "(A.0_ID flood wave shape, A.2_Bmax)  NaN      NaN\n",
      "(A.0_ID flood wave shape, A.2_Brate) NaN      NaN\n",
      "...                                   ..      ...\n",
      "(A.5_pfail, discount rate 1)         NaN      NaN\n",
      "(A.5_pfail, discount rate 2)         NaN      NaN\n",
      "(discount rate 0, discount rate 1)   NaN      NaN\n",
      "(discount rate 0, discount rate 2)   NaN      NaN\n",
      "(discount rate 1, discount rate 2)   NaN      NaN\n",
      "\n",
      "[171 rows x 2 columns]\n"
     ]
    },
    {
     "name": "stderr",
     "output_type": "stream",
     "text": [
      "/Library/Frameworks/Python.framework/Versions/3.11/lib/python3.11/site-packages/SALib/util/__init__.py:274: FutureWarning: unique with argument that is not not a Series, Index, ExtensionArray, or np.ndarray is deprecated and will raise in a future version.\n",
      "  names = list(pd.unique(groups))\n",
      "/Library/Frameworks/Python.framework/Versions/3.11/lib/python3.11/site-packages/SALib/analyze/sobol.py:141: RuntimeWarning: invalid value encountered in divide\n",
      "  Y = (Y - Y.mean()) / Y.std()\n"
     ]
    },
    {
     "name": "stdout",
     "output_type": "stream",
     "text": [
      "                         ST  ST_conf\n",
      "A.0_ID flood wave shape NaN      NaN\n",
      "A.1_Bmax                NaN      NaN\n",
      "A.1_Brate               NaN      NaN\n",
      "A.1_pfail               NaN      NaN\n",
      "A.2_Bmax                NaN      NaN\n",
      "A.2_Brate               NaN      NaN\n",
      "A.2_pfail               NaN      NaN\n",
      "A.3_Bmax                NaN      NaN\n",
      "A.3_Brate               NaN      NaN\n",
      "A.3_pfail               NaN      NaN\n",
      "A.4_Bmax                NaN      NaN\n",
      "A.4_Brate               NaN      NaN\n",
      "A.4_pfail               NaN      NaN\n",
      "A.5_Bmax                NaN      NaN\n",
      "A.5_Brate               NaN      NaN\n",
      "A.5_pfail               NaN      NaN\n",
      "discount rate 0         NaN      NaN\n",
      "discount rate 1         NaN      NaN\n",
      "discount rate 2         NaN      NaN\n",
      "                         S1  S1_conf\n",
      "A.0_ID flood wave shape NaN      NaN\n",
      "A.1_Bmax                NaN      NaN\n",
      "A.1_Brate               NaN      NaN\n",
      "A.1_pfail               NaN      NaN\n",
      "A.2_Bmax                NaN      NaN\n",
      "A.2_Brate               NaN      NaN\n",
      "A.2_pfail               NaN      NaN\n",
      "A.3_Bmax                NaN      NaN\n",
      "A.3_Brate               NaN      NaN\n",
      "A.3_pfail               NaN      NaN\n",
      "A.4_Bmax                NaN      NaN\n",
      "A.4_Brate               NaN      NaN\n",
      "A.4_pfail               NaN      NaN\n",
      "A.5_Bmax                NaN      NaN\n",
      "A.5_Brate               NaN      NaN\n",
      "A.5_pfail               NaN      NaN\n",
      "discount rate 0         NaN      NaN\n",
      "discount rate 1         NaN      NaN\n",
      "discount rate 2         NaN      NaN\n",
      "                                      S2  S2_conf\n",
      "(A.0_ID flood wave shape, A.1_Bmax)  NaN      NaN\n",
      "(A.0_ID flood wave shape, A.1_Brate) NaN      NaN\n",
      "(A.0_ID flood wave shape, A.1_pfail) NaN      NaN\n",
      "(A.0_ID flood wave shape, A.2_Bmax)  NaN      NaN\n",
      "(A.0_ID flood wave shape, A.2_Brate) NaN      NaN\n",
      "...                                   ..      ...\n",
      "(A.5_pfail, discount rate 1)         NaN      NaN\n",
      "(A.5_pfail, discount rate 2)         NaN      NaN\n",
      "(discount rate 0, discount rate 1)   NaN      NaN\n",
      "(discount rate 0, discount rate 2)   NaN      NaN\n",
      "(discount rate 1, discount rate 2)   NaN      NaN\n",
      "\n",
      "[171 rows x 2 columns]\n"
     ]
    },
    {
     "name": "stderr",
     "output_type": "stream",
     "text": [
      "/Library/Frameworks/Python.framework/Versions/3.11/lib/python3.11/site-packages/SALib/util/__init__.py:274: FutureWarning: unique with argument that is not not a Series, Index, ExtensionArray, or np.ndarray is deprecated and will raise in a future version.\n",
      "  names = list(pd.unique(groups))\n"
     ]
    },
    {
     "name": "stdout",
     "output_type": "stream",
     "text": [
      "                               ST   ST_conf\n",
      "A.0_ID flood wave shape  0.011626  0.034449\n",
      "A.1_Bmax                 0.000268  0.000717\n",
      "A.1_Brate                0.000001  0.000005\n",
      "A.1_pfail                0.126429  0.173810\n",
      "A.2_Bmax                 0.000019  0.000057\n",
      "A.2_Brate                0.000000  0.000000\n",
      "A.2_pfail                0.011786  0.019064\n",
      "A.3_Bmax                 0.000000  0.000000\n",
      "A.3_Brate                0.000000  0.000000\n",
      "A.3_pfail                0.677484  0.526182\n",
      "A.4_Bmax                 0.000000  0.000000\n",
      "A.4_Brate                0.000000  0.000000\n",
      "A.4_pfail                0.000135  0.000331\n",
      "A.5_Bmax                 0.000000  0.000000\n",
      "A.5_Brate                0.000000  0.000000\n",
      "A.5_pfail                0.002990  0.008028\n",
      "discount rate 0          0.000000  0.000000\n",
      "discount rate 1          0.000000  0.000000\n",
      "discount rate 2          0.000000  0.000000\n",
      "                               S1   S1_conf\n",
      "A.0_ID flood wave shape -0.012680  0.074419\n",
      "A.1_Bmax                 0.000900  0.011351\n",
      "A.1_Brate               -0.000399  0.001124\n",
      "A.1_pfail               -0.062109  0.248172\n",
      "A.2_Bmax                -0.000570  0.001710\n",
      "A.2_Brate                0.000000  0.000000\n",
      "A.2_pfail               -0.046031  0.075503\n",
      "A.3_Bmax                 0.000000  0.000000\n",
      "A.3_Brate                0.000000  0.000000\n",
      "A.3_pfail                0.523535  1.049884\n",
      "A.4_Bmax                 0.000000  0.000000\n",
      "A.4_Brate                0.000000  0.000000\n",
      "A.4_pfail                0.001023  0.005571\n",
      "A.5_Bmax                 0.000000  0.000000\n",
      "A.5_Brate                0.000000  0.000000\n",
      "A.5_pfail               -0.009478  0.042051\n",
      "discount rate 0          0.000000  0.000000\n",
      "discount rate 1          0.000000  0.000000\n",
      "discount rate 2          0.000000  0.000000\n",
      "                                            S2   S2_conf\n",
      "(A.0_ID flood wave shape, A.1_Bmax)   0.004461  0.094361\n",
      "(A.0_ID flood wave shape, A.1_Brate)  0.003835  0.093128\n",
      "(A.0_ID flood wave shape, A.1_pfail)  0.016137  0.103273\n",
      "(A.0_ID flood wave shape, A.2_Bmax)   0.003886  0.093252\n",
      "(A.0_ID flood wave shape, A.2_Brate)  0.003875  0.093244\n",
      "...                                        ...       ...\n",
      "(A.5_pfail, discount rate 1)          0.052083  0.124180\n",
      "(A.5_pfail, discount rate 2)          0.052083  0.124180\n",
      "(discount rate 0, discount rate 1)    0.000000  0.000000\n",
      "(discount rate 0, discount rate 2)    0.000000  0.000000\n",
      "(discount rate 1, discount rate 2)    0.000000  0.000000\n",
      "\n",
      "[171 rows x 2 columns]\n"
     ]
    }
   ],
   "source": [
    "# Analyze using Sobol for Expected Annual Damage\n",
    "Si_damage = sobol.analyze(problem, results['Expected Annual Damage'], calc_second_order=True, print_to_console=True)\n",
    "# Analyze using Sobol for Dike Investment Costs\n",
    "Si_dike_investment = sobol.analyze(problem, results['Dike Investment Costs'], calc_second_order=True, print_to_console=True)\n",
    "# Analyze using Sobol for RfR Investment Costs\n",
    "Si_rfr_investment = sobol.analyze(problem, results['RfR Investment Costs'], calc_second_order=True, print_to_console=True)\n",
    "# Analyze using Sobol for Evacuation Costs\n",
    "Si_evacuation_costs = sobol.analyze(problem, results['Evacuation Costs'], calc_second_order=True, print_to_console=True)\n",
    "# Analyze using Sobol for Expected Number of Deaths\n",
    "Si_deaths = sobol.analyze(problem, results['Expected Number of Deaths'], calc_second_order=True, print_to_console=True)\n"
   ]
  },
  {
   "cell_type": "code",
   "execution_count": 17,
   "metadata": {},
   "outputs": [
    {
     "data": {
      "image/png": "[encoded data removed]",
      "text/plain": [
       "<Figure size 800x600 with 1 Axes>"
      ]
     },
     "metadata": {},
     "output_type": "display_data"
    }
   ],
   "source": [
    "# Plot the results for Expected Annual Damage\n",
    "Si_filter = {k:Si_damage[k] for k in ['ST','ST_conf','S1','S1_conf']}\n",
    "Si_df = pd.DataFrame(Si_filter, index=problem['names'])\n",
    "\n",
    "sns.set_style('white')\n",
    "fig, ax = plt.subplots(1)\n",
    "\n",
    "indices = Si_df[['S1','ST']]\n",
    "err = Si_df[['S1_conf','ST_conf']]\n",
    "\n",
    "indices.plot.bar(yerr=err.values.T,ax=ax)\n",
    "fig.set_size_inches(8,6)\n",
    "fig.subplots_adjust(bottom=0.3)\n",
    "plt.title('Global Sensitivity Analysis on Expected Number of Deaths',fontweight='bold')\n",
    "plt.xlabel('Uncertainties')\n",
    "plt.ylabel('Expected Number of Deaths')\n",
    "plt.show()"
   ]
  },
  {
   "cell_type": "code",
   "execution_count": 18,
   "metadata": {},
   "outputs": [
    {
     "data": {
      "image/png": "[encoded data removed]",
      "text/plain": [
       "<Figure size 800x600 with 1 Axes>"
      ]
     },
     "metadata": {},
     "output_type": "display_data"
    }
   ],
   "source": [
    "# Plot the results for Expected Number of Deaths\n",
    "Si_filter = {k:Si_deaths[k] for k in ['ST','ST_conf','S1','S1_conf']}\n",
    "Si_df = pd.DataFrame(Si_filter, index=problem['names'])\n",
    "\n",
    "sns.set_style('white')\n",
    "fig, ax = plt.subplots(1)\n",
    "\n",
    "indices = Si_df[['S1','ST']]\n",
    "err = Si_df[['S1_conf','ST_conf']]\n",
    "\n",
    "indices.plot.bar(yerr=err.values.T,ax=ax)\n",
    "fig.set_size_inches(8,6)\n",
    "fig.subplots_adjust(bottom=0.3)\n",
    "plt.title('Global Sensitivity Analysis on Expected Annual Damage',fontweight='bold')\n",
    "plt.xlabel('Uncertainties')\n",
    "plt.ylabel('Expected Annual Damage')\n",
    "plt.show()\n"
   ]
  },
  {
   "cell_type": "markdown",
   "metadata": {},
   "source": [
    "--------\n",
    "### 3. Results\n",
    "\n",
    "#### Sobol Analysis on Expected Annual Damage\n",
    "**Key Uncertainties:**\n",
    "- A3_3_pfail (Probability of Failure for Dike Ring 3): This uncertainty has the highest sensitivity indices (both first-order and total), indicating it has the most significant impact on expected annual damage.\n",
    "- A1_pfail (Probability of Failure for Dike Ring 1): This variable also shows considerable influence, reflecting its importance in the model.\n",
    "\n",
    "#### Sobol Analysis on Expected Number of Deaths\n",
    "**Key Uncertainties:**\n",
    "- A1_pfail (Probability of Failure for Dike Ring 1): This uncertainty shows the highest sensitivity indices, making it the most significant factor affecting the expected number of deaths.\n",
    "- A3_3_pfail (Probability of Failure for Dike Ring 3): This also plays a critical role, although its influence is slightly less compared to A1_pfail.\n",
    "- Other Factors: Variables like Discount Rate, A2_Bmax (Breach Width for Dike Ring 2) and A3_Brate (Breach Growth Rate for Dike Ring 3) also impact the expected number of deaths but to a lesser degree."
   ]
  },
  {
   "cell_type": "markdown",
   "metadata": {},
   "source": []
  }
 ],
 "metadata": {
  "kernelspec": {
   "display_name": "Python 3",
   "language": "python",
   "name": "python3"
  },
  "language_info": {
   "codemirror_mode": {
    "name": "ipython",
    "version": 3
   },
   "file_extension": ".py",
   "mimetype": "text/x-python",
   "name": "python",
   "nbconvert_exporter": "python",
   "pygments_lexer": "ipython3",
   "version": "3.11.8"
  }
 },
 "nbformat": 4,
 "nbformat_minor": 2
}
